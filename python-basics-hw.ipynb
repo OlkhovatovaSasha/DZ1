{
 "cells": [
  {
   "cell_type": "markdown",
   "metadata": {},
   "source": [
    "**Задание 1**. Даны 2 строки: *long_phrase* и *short_phrase*. \n",
    "Напишите код, который проверяет действительно ли длинная фраза *long_phrase* длиннее короткой *short_phrase*. И выводит *True* или *False* в зависимости от результата сравнения."
   ]
  },
  {
   "cell_type": "code",
   "execution_count": 34,
   "metadata": {},
   "outputs": [
    {
     "data": {
      "text/plain": [
       "True"
      ]
     },
     "execution_count": 34,
     "metadata": {},
     "output_type": "execute_result"
    }
   ],
   "source": [
    "long_phrase = 'Насколько проще было бы писать программы, если бы не заказчики'\n",
    "short_phrase = '640Кб должно хватить для любых задач. Билл Гейтс (по легенде)'\n",
    "\n",
    "len(long_phrase)>len(short_phrase)"
   ]
  },
  {
   "cell_type": "code",
   "execution_count": null,
   "metadata": {},
   "outputs": [],
   "source": []
  },
  {
   "cell_type": "markdown",
   "metadata": {},
   "source": [
    "**Задание 2**. Дано значение объема файла в байтах. Напишите перевод этого значения в мегабайты в формате: \"*Объем файла равен 213.68Mb*\""
   ]
  },
  {
   "cell_type": "code",
   "execution_count": 35,
   "metadata": {},
   "outputs": [
    {
     "name": "stdout",
     "output_type": "stream",
     "text": [
      "1024\n",
      "\"Объем файла равен  1.0 Mb\"\n"
     ]
    }
   ],
   "source": [
    "volum_b=int(input())\n",
    "volum_Mb=volum_b/1024\n",
    "print('\"Объем файла равен ',volum_Mb,'Mb\"')"
   ]
  },
  {
   "cell_type": "markdown",
   "metadata": {},
   "source": [
    "**Задание 3**. Разработать приложение для определения знака зодиака по дате рождения. Пример:\n",
    "\n",
    "Введите месяц: март\n",
    "\n",
    "Введите число: 6\n",
    "\n",
    "Вывод:\n",
    "Рыбы"
   ]
  },
  {
   "cell_type": "code",
   "execution_count": 36,
   "metadata": {},
   "outputs": [
    {
     "name": "stdout",
     "output_type": "stream",
     "text": [
      "Введите месяц: декабрь\n",
      "Введите число: 16\n",
      "Стрелец\n"
     ]
    }
   ],
   "source": [
    "month=input(\"Введите месяц: \")\n",
    "number=int(input(\"Введите число: \"))\n",
    "\n",
    "if ((month=='Декабрь' or month=='декабрь') and 23<=number<=31) or ((month=='Январь' or month=='январь') and 1<=number<=20):\n",
    "    print(\"Козерог\")\n",
    "elif ((month=='Январь' or month=='январь') and 21<=number<=31) or ((month=='Февраль' or month=='февраль') and 1<=number<=19):\n",
    "    print(\"Водолей\")\n",
    "elif ((month=='Февраль' or month=='февраль') and 20<=number<=29) or ((month=='Март' or month=='март') and 1<=number<=20):\n",
    "    print(\"Рыбы\")\n",
    "elif ((month=='Март' or month=='март') and 21<=number<=31) or ((month=='Апрель' or month=='апрель') and 1<=number<=20):\n",
    "    print(\"Овен\")\n",
    "elif ((month=='Апрель' or month=='апрель') and 21<=number<=30) or ((month=='Май' or month=='май') and 1<=number<=21):\n",
    "    print(\"Телец\")\n",
    "elif ((month=='Май' or month=='май') and 22<=number<=31) or ((month=='Июнь' or month=='июнь') and 1<=number<=21):\n",
    "    print(\"Близнецы\")\n",
    "elif ((month=='Июнь' or month=='июнь') and 22<=number<=30) or ((month=='Июль' or month=='июль') and 1<=number<=22):\n",
    "    print(\"Рак\")\n",
    "elif ((month=='Июль' or month=='июль') and 23<=number<=31) or ((month=='Август' or month=='август') and 1<=number<=21):\n",
    "    print(\"Лев\")\n",
    "elif ((month=='Август' or month=='август') and 22<=number<=31) or ((month=='Сентябрь' or month=='сентябрь') and 1<=number<=23):\n",
    "    print(\"Дева\")\n",
    "elif ((month=='Сентябрь' or month=='сентябрь') and 24<=number<=30) or ((month=='Октябрь' or month=='октябрь') and 1<=number<=23):\n",
    "    print(\"Весы\")\n",
    "elif ((month=='Октябрь' or month=='октябрь') and 24<=number<=31) or ((month=='Ноябрь' or month=='ноябрь') and 1<=number<=22):\n",
    "    print(\"Скорпион\")\n",
    "elif ((month=='Ноябрь' or month=='ноябрь') and 23<=number<=30) or ((month=='Декабрь' or month=='декабрь') and 1<=number<=22):\n",
    "    print(\"Стрелец\")\n",
    "else:\n",
    "    print(\"Что-то пошло не так, некорректно введены данные\")\n",
    "    "
   ]
  },
  {
   "cell_type": "markdown",
   "metadata": {},
   "source": [
    "**Задание 4**. Нужно разработать приложение для финансового планирования.\n",
    "Приложение учитывает сколько уходит на ипотеку, \"на жизнь\" и сколько нужно отложить на пенсию.\n",
    "Пользователь вводит:\n",
    "- заработанную плату в месяц.\n",
    "- сколько процентов от ЗП уходит на ипотеку.\n",
    "- сколько процентов от ЗП уходит \"на жизнь\".\n",
    "- сколько раз приходит премия в год.\n",
    "\n",
    "Остальная часть заработанной платы откладывается на пенсию.\n",
    "\n",
    "Также пользователю приходит премия в размере зарплаты, от которой половина уходит на отпуск, а вторая половина откладывается.\n",
    "\n",
    "Программа должна учитывать сколько премий было в год.\n",
    "\n",
    "Нужно вывести сколько денег тратит пользователь на ипотеку и сколько он накопит за год.\n",
    "\n",
    "Пример:\n",
    "\n",
    "Введите заработанную плату в месяц: 100000\n",
    "\n",
    "Введите сколько процентов уходит на ипотеку: 30\n",
    "\n",
    "Введите сколько процентов уходит на жизнь: 50\n",
    "\n",
    "Введите количество премий за год: 2\n",
    "\n",
    "Вывод:\n",
    "На ипотеку было потрачено: 360000 рублей\n",
    "Было накоплено: 340000 рублей"
   ]
  },
  {
   "cell_type": "code",
   "execution_count": 37,
   "metadata": {},
   "outputs": [
    {
     "name": "stdout",
     "output_type": "stream",
     "text": [
      "Введите заработанную плату в месяц: 100000\n",
      "Введите сколько процентов уходит на ипотеку: 30\n",
      "Введите сколько процентов уходит на жизнь: 50\n",
      "Введите количество премий за год: 2\n",
      "На ипотеку было потрачено: 360000.0 рублей Было накоплено: 340000.0 рублей\n"
     ]
    }
   ],
   "source": [
    "salary=int(input(\"Введите заработанную плату в месяц: \"))\n",
    "percent_ip=int(input(\"Введите сколько процентов уходит на ипотеку: \"))\n",
    "percent_life=int(input(\"Введите сколько процентов уходит на жизнь: \"))\n",
    "times_prize=int(input(\"Введите количество премий за год: \"))\n",
    "prize=salary\n",
    "\n",
    "#сколько пользователь откладывает в накопления с ежегодных премий в год\n",
    "capital_bonus=(prize*times_prize/2)\n",
    "\n",
    "#сколько пользователь откладывает в накопления с зарплат в год\n",
    "capital_salary=(100-percent_ip-percent_life)/100*salary*12\n",
    "\n",
    "#сколько пользователь всего откладывает в накопления в год\n",
    "capital_all=capital_bonus+capital_salary\n",
    "\n",
    "#сколько пользователь тратит на выплату ипотеки в год\n",
    "expenses_ip=salary*12*percent_ip/100\n",
    "\n",
    "print(\"На ипотеку было потрачено:\",expenses_ip,\"рублей Было накоплено:\",capital_all,\"рублей\")\n",
    "\n"
   ]
  },
  {
   "cell_type": "code",
   "execution_count": null,
   "metadata": {},
   "outputs": [],
   "source": []
  },
  {
   "cell_type": "code",
   "execution_count": null,
   "metadata": {},
   "outputs": [],
   "source": []
  },
  {
   "cell_type": "code",
   "execution_count": null,
   "metadata": {},
   "outputs": [],
   "source": []
  },
  {
   "cell_type": "code",
   "execution_count": null,
   "metadata": {},
   "outputs": [],
   "source": []
  }
 ],
 "metadata": {
  "kernelspec": {
   "display_name": "Python 3",
   "language": "python",
   "name": "python3"
  },
  "language_info": {
   "codemirror_mode": {
    "name": "ipython",
    "version": 3
   },
   "file_extension": ".py",
   "mimetype": "text/x-python",
   "name": "python",
   "nbconvert_exporter": "python",
   "pygments_lexer": "ipython3",
   "version": "3.7.4"
  }
 },
 "nbformat": 4,
 "nbformat_minor": 2
}
